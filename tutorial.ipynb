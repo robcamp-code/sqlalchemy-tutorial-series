{
 "cells": [
  {
   "cell_type": "markdown",
   "metadata": {},
   "source": [
    "# SQL ALCHEMY TUTORIAL"
   ]
  },
  {
   "cell_type": "code",
   "execution_count": 1,
   "metadata": {},
   "outputs": [],
   "source": [
    "\"\"\" main.py \"\"\"\n",
    "import os\n",
    "from pathlib import Path\n",
    "\n",
    "from sqlalchemy import create_engine, event, Engine\n",
    "from sqlalchemy.orm import scoped_session, sessionmaker\n",
    "from models import Model\n",
    "\n",
    "BASE_DIR = Path('.').absolute()\n",
    "engine = create_engine(f\"sqlite:///{BASE_DIR}/db.sqlite3\", echo=False)\n",
    "session = scoped_session(\n",
    "    sessionmaker(\n",
    "        autoflush = False,\n",
    "        autocommit = False,\n",
    "        bind=engine\n",
    "    )\n",
    ")\n",
    "\n",
    "@event.listens_for(Engine, \"connect\")\n",
    "def set_sqlite_pragma(dbapi_connection, connection_record):\n",
    "    cursor = dbapi_connection.cursor()\n",
    "    cursor.execute(\"PRAGMA foreign_keys=ON\")\n",
    "    cursor.close()"
   ]
  },
  {
   "cell_type": "code",
   "execution_count": 2,
   "metadata": {},
   "outputs": [],
   "source": [
    "\"\"\" models.py \"\"\"\n",
    "from datetime import datetime\n",
    "\n",
    "from sqlalchemy import Column, Integer, String, Boolean, ForeignKey, DateTime, Date, Float\n",
    "from sqlalchemy.orm import Relationship\n",
    "from sqlalchemy.orm import declarative_base\n",
    "from main import session\n",
    "\n",
    "Model = declarative_base()\n",
    "Model.query = session.query_property()\n",
    "\n",
    "\n",
    "class User(Model):\n",
    "    __tablename__ = \"user\"\n",
    "    id = Column(Integer, primary_key=True, autoincrement=True)\n",
    "\n",
    "    created_at = Column(DateTime, default=datetime.now())\n",
    "    last_updated = Column(DateTime, onupdate=datetime.now())\n",
    "    name = Column(String, nullable=False)\n",
    "    age = Column(Integer, nullable=True)\n",
    "    # uselist ensures you get a single value when querying instead of a list, which would be the case for on to many relatiohsips\n",
    "    author_profile = Relationship(\"AuthorProfile\", \n",
    "                                  back_populates=\"user\", \n",
    "                                  passive_deletes=True, \n",
    "                                  uselist=False)\n",
    "\n",
    "\n",
    "class AuthorProfile(Model):\n",
    "    __tablename__ = \"profile\"\n",
    "    id = Column(Integer, primary_key=True, autoincrement=True)\n",
    "    # unique forces one to one relationship\n",
    "    user_id = Column(Integer, ForeignKey(\"user.id\", ondelete='CASCADE'), unique=True, nullable=True)\n",
    "    display_name = Column(String, nullable=False)\n",
    "    bio = Column(String, nullable=True)\n",
    "    \n",
    "    user = Relationship(\"User\", back_populates=\"author_profile\")\n",
    "    # many to many with blog\n",
    "    blogs = Relationship(\"Blog\",\n",
    "                         secondary=\"blog_author\",\n",
    "                         passive_deletes=True,\n",
    "                         back_populates=\"authors\"\n",
    "                        )\n",
    "\n",
    "\n",
    "class BlogAuthor(Model):\n",
    "    __tablename__ = \"blog_author\"\n",
    "    id = Column(Integer, primary_key=True, autoincrement=True)\n",
    "    author_profile_id = Column(Integer, ForeignKey(\"profile.id\", ondelete='CASCADE'), nullable=True)\n",
    "    blog_id = Column(Integer, ForeignKey(\"blog.id\"), nullable=True)\n",
    "\n",
    "\n",
    "class Blog(Model):\n",
    "    __tablename__ = \"blog\"\n",
    "    id = Column(Integer, primary_key=True, autoincrement=True)\n",
    "    \n",
    "    created_at = Column(DateTime, default=datetime.now())\n",
    "    last_updated = Column(DateTime, onupdate=datetime.now())\n",
    "    authors = Relationship(\"AuthorProfile\",\n",
    "                         secondary=\"blog_author\",\n",
    "                         passive_deletes=True,\n",
    "                         back_populates=\"blogs\")\n",
    "    title = Column(String, nullable=False)\n",
    "    tagline = Column(String, nullable=True)\n",
    "    content = Column(String, nullable=False)\n",
    "    comments = Relationship(\"Comment\")\n",
    "\n",
    "\n",
    "class Comment(Model):\n",
    "    __tablename__ = \"comment\"\n",
    "    id = Column(Integer, primary_key=True, autoincrement=True)\n",
    "    blog_id = Column(Integer, ForeignKey(\"blog.id\", ondelete='CASCADE'), nullable=True)\n",
    "    text = Column(String, nullable=False)\n",
    "    blog = Relationship(\"Blog\",\n",
    "                         passive_deletes=True,\n",
    "                         back_populates=\"comments\",\n",
    "                         uselist=False)"
   ]
  },
  {
   "cell_type": "markdown",
   "metadata": {},
   "source": [
    "`!sqlite3 db.sqlite3`\n",
    "```\n",
    ">> SELECT * FROM user;\n",
    "```"
   ]
  },
  {
   "cell_type": "code",
   "execution_count": 3,
   "metadata": {},
   "outputs": [],
   "source": [
    "Model.metadata.create_all(engine)"
   ]
  },
  {
   "cell_type": "markdown",
   "metadata": {},
   "source": [
    "- In terminal run:\n",
    "`python3 seed.py`"
   ]
  },
  {
   "cell_type": "code",
   "execution_count": 4,
   "metadata": {},
   "outputs": [],
   "source": [
    "\"\"\" data snippet \"\"\"\n",
    "users = [\n",
    "    {\n",
    "        \"id\": 1,\n",
    "        \"name\": \"John Dillons\",\n",
    "        \"age\": 25,\n",
    "    },\n",
    "    {\n",
    "        \"id\": 2,\n",
    "        \"name\": \"James Smith\",\n",
    "        \"age\": 25,\n",
    "    },\n",
    "    {\n",
    "        \"id\": 3,\n",
    "        \"name\": \"Alex Shmoe\",\n",
    "        \"age\": 25,\n",
    "        \n",
    "    },\n",
    "    {\n",
    "        \"id\": 4,\n",
    "        \"name\": \"Rob Scramble\",\n",
    "        \"age\": 25,\n",
    "        \n",
    "    },\n",
    "    {\n",
    "        \"id\": 5,\n",
    "        \"name\": \"Maxwell Amadeous\",\n",
    "        \"age\": 25,\n",
    "        \n",
    "    }\n",
    "]\n",
    "\n",
    "authors = [\n",
    "    {\n",
    "        \"id\": 1,\n",
    "        \"display_name\": \"Ashmoe28\",\n",
    "        \"user_id\": 3\n",
    "    },\n",
    "    {\n",
    "        \"id\": 2,\n",
    "        \"display_name\": \"Mamadeous7\",\n",
    "        \"user_id\": 5\n",
    "    },\n",
    "    {\n",
    "        \"id\": 3,\n",
    "        \"display_name\": \"JSmith11\",\n",
    "        \"user_id\": 2,\n",
    "    },\n",
    "]\n",
    "\n",
    "blogs = [\n",
    "    {\n",
    "        \"id\": 1,\n",
    "        \"title\": \"Beginner Django Tutorial\",\n",
    "        \"tagline\": \"How to get started with django\",\n",
    "        \"content\": \"Mollit culpa aute labore dolore quis eu pariatur esse consequat. Excepteur proident sint aliqua pariatur cupidatat exercitation non anim consectetur. Irure magna mollit irure velit sint veniam enim. Ullamco culpa laboris ullamco cillum tempor sit Lorem non. Mollit voluptate magna laborum ipsum. Adipisicing amet ipsum minim eiusmod exercitation irure duis culpa labore proident. Magna laborum id reprehenderit enim laborum exercitation eu.\"\n",
    "    },\n",
    "    {\n",
    "        \"id\": 2,\n",
    "        \"title\": \"Beginner Flask Tutorial\",\n",
    "        \"tagline\": \"How to get started with flask\",\n",
    "        \"content\": \"Mollit culpa aute labore dolore quis eu pariatur esse consequat. Excepteur proident sint aliqua pariatur cupidatat exercitation non anim consectetur. Irure magna mollit irure velit sint veniam enim. Ullamco culpa laboris ullamco cillum tempor sit Lorem non. Mollit voluptate magna laborum ipsum. Adipisicing amet ipsum minim eiusmod exercitation irure duis culpa labore proident. Magna laborum id reprehenderit enim laborum exercitation eu.\"\n",
    "    },\n",
    "    {\n",
    "        \"id\": 3,\n",
    "        \"title\": \"Machine Learning Tutorial\",\n",
    "        \"tagline\": \"How to get started with machine learning with python\",\n",
    "        \"content\": \"Mollit culpa aute labore dolore quis eu pariatur esse consequat. Excepteur proident sint aliqua pariatur cupidatat exercitation non anim consectetur. Irure magna mollit irure velit sint veniam enim. Ullamco culpa laboris ullamco cillum tempor sit Lorem non. Mollit voluptate magna laborum ipsum. Adipisicing amet ipsum minim eiusmod exercitation irure duis culpa labore proident. Magna laborum id reprehenderit enim laborum exercitation eu.\"\n",
    "    },\n",
    "    {\n",
    "        \"id\": 4,\n",
    "        \"title\": \"SQL Tutorial\",\n",
    "        \"tagline\": \"Querying databases with SQL\",\n",
    "        \"content\": \"Mollit culpa aute labore dolore quis eu pariatur esse consequat. Excepteur proident sint aliqua pariatur cupidatat exercitation non anim consectetur. Irure magna mollit irure velit sint veniam enim. Ullamco culpa laboris ullamco cillum tempor sit Lorem non. Mollit voluptate magna laborum ipsum. Adipisicing amet ipsum minim eiusmod exercitation irure duis culpa labore proident. Magna laborum id reprehenderit enim laborum exercitation eu.\"\n",
    "    },\n",
    "]\n",
    "\n",
    "blog_authors = [\n",
    "    {\n",
    "        \"id\": 1,\n",
    "        \"author_profile_id\": 2,\n",
    "        \"blog_id\": 1, \n",
    "    },\n",
    "    {\n",
    "        \"id\": 2,\n",
    "        \"author_profile_id\": 3,\n",
    "        \"blog_id\": 4, \n",
    "    },\n",
    "    {\n",
    "        \"id\": 3,\n",
    "        \"author_profile_id\": 1,\n",
    "        \"blog_id\": 2, \n",
    "    },\n",
    "    # {\n",
    "    #     \"id\": 4,\n",
    "    #     \"author_profile_id\": 3,\n",
    "    #     \"blog_id\": 4, \n",
    "    # },\n",
    "]\n",
    "\n",
    "comments = [\n",
    "    {\n",
    "        \"id\": 1,\n",
    "        \"blog_id\": 1,\n",
    "        \"text\": \"Love it!\"\n",
    "\n",
    "    },\n",
    "    {\n",
    "        \"id\": 2,\n",
    "        \"blog_id\": 1,\n",
    "        \"text\": \"Can't wait for more!\"\n",
    "\n",
    "    },\n",
    "    {\n",
    "        \"id\": 3,\n",
    "        \"blog_id\": 2,\n",
    "        \"text\": \"Can't wait for your next tutorial!\"\n",
    "\n",
    "    },\n",
    "    {\n",
    "        \"id\": 4,\n",
    "        \"blog_id\": 2,\n",
    "        \"text\": \"Love it!\"\n",
    "\n",
    "    },\n",
    "    {\n",
    "        \"id\": 5,\n",
    "        \"blog_id\": 2,\n",
    "        \"text\": \"Great Post!\"\n",
    "\n",
    "    },\n",
    "    {\n",
    "        \"id\": 6,\n",
    "        \"blog_id\": 3,\n",
    "        \"text\": \"Not really a fan of this one!\"\n",
    "\n",
    "    },\n",
    "    {\n",
    "        \"id\": 7,\n",
    "        \"blog_id\": 4,\n",
    "        \"text\": \"Very good post!\"\n",
    "\n",
    "    },\n",
    "]"
   ]
  },
  {
   "cell_type": "code",
   "execution_count": 5,
   "metadata": {},
   "outputs": [],
   "source": [
    "def seed_db():\n",
    "    data = [(users, User), (authors, AuthorProfile), (blogs, Blog), \n",
    "            (blog_authors, BlogAuthor), (comments, Comment)]\n",
    "    for objects, model in data:\n",
    "        for obj in objects:\n",
    "            session.add(model(**obj))\n",
    "        session.commit()\n",
    "\n",
    "seed_db()"
   ]
  },
  {
   "cell_type": "markdown",
   "metadata": {},
   "source": [
    "## Querying"
   ]
  },
  {
   "cell_type": "markdown",
   "metadata": {},
   "source": [
    "### SELECT"
   ]
  },
  {
   "cell_type": "code",
   "execution_count": 6,
   "metadata": {},
   "outputs": [],
   "source": [
    "def select_all_blogs():\n",
    "    blogs = Blog.query.all()\n",
    "    for blog in blogs:\n",
    "        print(blog.title)\n",
    "\n"
   ]
  },
  {
   "cell_type": "code",
   "execution_count": 8,
   "metadata": {},
   "outputs": [
    {
     "name": "stdout",
     "output_type": "stream",
     "text": [
      "Beginner Django Tutorial\n",
      "Beginner Flask Tutorial\n",
      "Machine Learning Tutorial\n",
      "SQL Tutorial\n"
     ]
    }
   ],
   "source": [
    "select_all_blogs()"
   ]
  },
  {
   "cell_type": "code",
   "execution_count": 10,
   "metadata": {},
   "outputs": [],
   "source": [
    "def print_blogs(q):\n",
    "    for blog in q: \n",
    "        print(blog.title)\n",
    "        print(blog.tagline)\n",
    "        print(blog.created_at)"
   ]
  },
  {
   "cell_type": "code",
   "execution_count": 11,
   "metadata": {},
   "outputs": [],
   "source": [
    "def filter_blogs():\n",
    "    q_1 = Blog.query.filter(Blog.title == \"Beginner Django Tutorial\")\n",
    "    q_2 = Blog.query.filter_by(title=\"Beginner Django Tutorial\")\n",
    "    q_3 = Blog.query.filter(Blog.title.contains(\"Beginner\"))\n",
    "    print_blogs(q_3)\n"
   ]
  },
  {
   "cell_type": "code",
   "execution_count": 12,
   "metadata": {},
   "outputs": [
    {
     "name": "stdout",
     "output_type": "stream",
     "text": [
      "Beginner Django Tutorial\n",
      "How to get started with django\n",
      "2024-06-07 15:06:11.886177\n",
      "Beginner Flask Tutorial\n",
      "How to get started with flask\n",
      "2024-06-07 15:06:11.886177\n"
     ]
    }
   ],
   "source": [
    "filter_blogs()"
   ]
  },
  {
   "cell_type": "markdown",
   "metadata": {},
   "source": [
    "### Insert"
   ]
  },
  {
   "cell_type": "code",
   "execution_count": 13,
   "metadata": {},
   "outputs": [
    {
     "name": "stdout",
     "output_type": "stream",
     "text": [
      "BEFORE: None\n",
      "AFTER: 6\n"
     ]
    }
   ],
   "source": [
    "u = User(name=\"New User\", age=55)\n",
    "print(f\"BEFORE: {u.id}\")\n",
    "session.add(u)\n",
    "session.commit()\n",
    "print(f\"AFTER: {u.id}\")\n"
   ]
  },
  {
   "cell_type": "code",
   "execution_count": 14,
   "metadata": {},
   "outputs": [],
   "source": [
    "def print_users(u):\n",
    "    for user in u:\n",
    "        print(user.name, user.age)    \n",
    "\n",
    "def insert_users():\n",
    "    u = User(name=\"Clark Kent\", age=37)\n",
    "    u2 = User(name=\"Clark Kent\", age=37)\n",
    "    session.add(u)\n",
    "    session.add(u2)\n",
    "    session.commit()\n",
    "\n",
    "    users = User.query.filter(User.name.contains(\"Clark\"))\n",
    "    print_users(users)\n"
   ]
  },
  {
   "cell_type": "code",
   "execution_count": 15,
   "metadata": {},
   "outputs": [
    {
     "name": "stdout",
     "output_type": "stream",
     "text": [
      "Clark Kent 37\n",
      "Clark Kent 37\n"
     ]
    }
   ],
   "source": [
    "insert_users()"
   ]
  },
  {
   "cell_type": "markdown",
   "metadata": {},
   "source": [
    "### Update"
   ]
  },
  {
   "cell_type": "code",
   "execution_count": 16,
   "metadata": {},
   "outputs": [],
   "source": [
    "def update_user():\n",
    "    u = User.query.filter_by(name=\"Clark Kent\").first()\n",
    "    u.name = \"Superman\"\n",
    "    session.commit()\n",
    "    "
   ]
  },
  {
   "cell_type": "code",
   "execution_count": 17,
   "metadata": {},
   "outputs": [],
   "source": [
    "update_user()"
   ]
  },
  {
   "cell_type": "markdown",
   "metadata": {},
   "source": [
    "### Delete"
   ]
  },
  {
   "cell_type": "code",
   "execution_count": 18,
   "metadata": {},
   "outputs": [
    {
     "data": {
      "text/plain": [
       "1"
      ]
     },
     "execution_count": 18,
     "metadata": {},
     "output_type": "execute_result"
    }
   ],
   "source": [
    "deleted = User.query.filter_by(name=\"Clark Kent\").delete() \n",
    "deleted"
   ]
  },
  {
   "cell_type": "markdown",
   "metadata": {},
   "source": [
    "### joins"
   ]
  },
  {
   "cell_type": "code",
   "execution_count": 19,
   "metadata": {},
   "outputs": [],
   "source": [
    "# 1 to 1 example\n",
    "def get_user_profiles():\n",
    "    \"\"\" one to one example with user and profiles \"\"\"\n",
    "    profiles = AuthorProfile.query.join(User, AuthorProfile.user)\n",
    "    print(f\"DISPLAY_NAME: {profiles.first().display_name}\")\n",
    "    print(f\"NAME: {profiles.first().user.name}\")"
   ]
  },
  {
   "cell_type": "code",
   "execution_count": 20,
   "metadata": {},
   "outputs": [],
   "source": [
    "\n",
    "# 1 to many example\n",
    "def get_blog_comments():\n",
    "    \"\"\" One to many example: grabbing all comments asssociated with one blog \"\"\"\n",
    "    blogs = Blog.query.join(Comment, Blog.comments).all()\n",
    "    for comment in blogs[1].comments:\n",
    "        print(comment.text)"
   ]
  },
  {
   "cell_type": "code",
   "execution_count": 22,
   "metadata": {},
   "outputs": [
    {
     "name": "stdout",
     "output_type": "stream",
     "text": [
      "Can't wait for your next tutorial!\n",
      "Love it!\n",
      "Great Post!\n"
     ]
    }
   ],
   "source": [
    "get_blog_comments()"
   ]
  },
  {
   "cell_type": "markdown",
   "metadata": {},
   "source": [
    "### Groupby and aggregation functions"
   ]
  },
  {
   "cell_type": "code",
   "execution_count": 23,
   "metadata": {},
   "outputs": [],
   "source": [
    "from sqlalchemy import or_, and_, not_, desc, asc, select, func\n",
    "from sqlalchemy.orm import load_only"
   ]
  },
  {
   "cell_type": "code",
   "execution_count": 24,
   "metadata": {},
   "outputs": [
    {
     "data": {
      "text/plain": [
       "[(6, 'New User', 55)]"
      ]
     },
     "execution_count": 24,
     "metadata": {},
     "output_type": "execute_result"
    }
   ],
   "source": [
    "# grab the \n",
    "res = session.query(User.id, User.name, func.max(User.age)).all()\n",
    "res"
   ]
  },
  {
   "cell_type": "code",
   "execution_count": 25,
   "metadata": {},
   "outputs": [
    {
     "data": {
      "text/plain": [
       "[(55, 'New User', 6)]"
      ]
     },
     "execution_count": 25,
     "metadata": {},
     "output_type": "execute_result"
    }
   ],
   "source": [
    "from sqlalchemy import func\n",
    "res = User.query.with_entities(func.max(User.age), User.name, User.id).all()\n",
    "res"
   ]
  },
  {
   "cell_type": "code",
   "execution_count": 26,
   "metadata": {},
   "outputs": [
    {
     "name": "stdout",
     "output_type": "stream",
     "text": [
      "[(1, 2), (2, 3), (3, 1), (4, 1)]\n"
     ]
    }
   ],
   "source": [
    "def get_comment_counts():\n",
    "    num_comments_by_blog = Comment.query \\\n",
    "        .with_entities(Comment.blog_id, \n",
    "                        func.count(Comment.blog_id)) \\\n",
    "        .group_by(Comment.blog_id).all()\n",
    "    print(num_comments_by_blog)\n",
    "\n",
    "get_comment_counts()"
   ]
  }
 ],
 "metadata": {
  "kernelspec": {
   "display_name": "venv",
   "language": "python",
   "name": "python3"
  },
  "language_info": {
   "codemirror_mode": {
    "name": "ipython",
    "version": 3
   },
   "file_extension": ".py",
   "mimetype": "text/x-python",
   "name": "python",
   "nbconvert_exporter": "python",
   "pygments_lexer": "ipython3",
   "version": "3.12.3"
  }
 },
 "nbformat": 4,
 "nbformat_minor": 2
}
